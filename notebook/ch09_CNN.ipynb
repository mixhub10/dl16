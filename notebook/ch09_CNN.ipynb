{
  "nbformat": 4,
  "nbformat_minor": 0,
  "metadata": {
    "colab": {
      "provenance": [],
      "authorship_tag": "ABX9TyP6OeGrSu9y+16lAtSMT8BV",
      "include_colab_link": true
    },
    "kernelspec": {
      "name": "python3",
      "display_name": "Python 3"
    },
    "language_info": {
      "name": "python"
    }
  },
  "cells": [
    {
      "cell_type": "markdown",
      "metadata": {
        "id": "view-in-github",
        "colab_type": "text"
      },
      "source": [
        "<a href=\"https://colab.research.google.com/github/mixhub10/dl16/blob/main/notebook/ch09_CNN.ipynb\" target=\"_parent\"><img src=\"https://colab.research.google.com/assets/colab-badge.svg\" alt=\"Open In Colab\"/></a>"
      ]
    },
    {
      "cell_type": "markdown",
      "source": [
        "# CNN (합성곱 신경망)\n",
        "\n"
      ],
      "metadata": {
        "id": "PIfgQ6QeHuSf"
      }
    },
    {
      "cell_type": "markdown",
      "source": [
        "## CNN의 일반적인 구조\n",
        "\n",
        "- 입력츠에서 컨벌루션 연산을 통해 특징을 뽑아내는 특징맵이 존재\n",
        "- 폴링 연산을 적용 (폴링 연산은 입력의 차원을 줄이는 연산)\n",
        "\n",
        "- 컨벌루션 레이어와 폴링 레이어는 여러번 되풀이 됨\n",
        "\n",
        "- 신경망의 끝에는 완전히 연결된 구조의 전통적인 분류 신경망(MLP, DNN, FCN)이 있어 추출된 특징을 바탕으로 물체를 인식함"
      ],
      "metadata": {
        "id": "e51vmMniH9GJ"
      }
    },
    {
      "cell_type": "markdown",
      "source": [
        "## 컨벌루션 신경망의 연산\n",
        "\n",
        "- 컨벌루션 레이어 : 여러 개의 필터(즉, 다양한 특징 추출)을 이용\n",
        "\n",
        "- 보폭(stride) : 보폭은 커널을 적용하는 거리이고 보폭이 1이면 커널을 한번에 1픽셀씩 이동하면서 커널을 적용한다는 것\n",
        "\n",
        "- 패딩 : 이미지의 가장자리를 처리하기 위한 기법"
      ],
      "metadata": {
        "id": "7uOxS17nIm9P"
      }
    },
    {
      "cell_type": "markdown",
      "source": [
        "### 패딩\n",
        "\n",
        "- Valid : 커널을 입력 이미지 안에서만 움직인다\n",
        "\n",
        "- Same : 입력 이미지의 주변을 특정값으로 채우는 것"
      ],
      "metadata": {
        "id": "eqwBi536JJuX"
      }
    },
    {
      "cell_type": "markdown",
      "source": [
        "## 폴링\n",
        "\n",
        "- 서브 샘플링이라고도 하는 것으로 입력 데이터의 크기를 줄이는 것이다\n",
        "\n",
        "- Max Pooling : 컨벌루션 처럼 윈도우를 움직여서 윈도우 안에 있는 숫자 중에서 가장 큰값만을 출력하는 연산"
      ],
      "metadata": {
        "id": "MS-lhKG-JW6X"
      }
    },
    {
      "cell_type": "markdown",
      "source": [
        "### 풀링의 장점\n",
        "\n",
        "- 레이어의 크기가 작아지므로 계산이 빨라짐\n",
        "- 레이어의 크기가 작아진다는 것은 신경망의 매개변수가 작아진다는 것을 의미(과적합이 나올 가능성 줄어듬)\n",
        "- 공간에서 물체의 이동이 있어도 결과는 변하지 않음(즉, 물체 공간이동에 대해 둔감해짐)"
      ],
      "metadata": {
        "id": "iAyFD_JBJo7e"
      }
    },
    {
      "cell_type": "markdown",
      "source": [
        "## 케라스를 이용한 간단한 컨벌루션 신경망 구현"
      ],
      "metadata": {
        "id": "QtIjQgmqKrTQ"
      }
    },
    {
      "cell_type": "code",
      "execution_count": 1,
      "metadata": {
        "colab": {
          "base_uri": "https://localhost:8080/"
        },
        "id": "WOywFE6cHkCT",
        "outputId": "79f1da8f-3bcf-4dae-d99b-166af97926b0"
      },
      "outputs": [
        {
          "output_type": "stream",
          "name": "stdout",
          "text": [
            "(4, 26, 26, 2)\n"
          ]
        }
      ],
      "source": [
        "import tensorflow as tf\n",
        "from tensorflow.keras import layers\n",
        "\n",
        "# conv2D\n",
        "input_shape = (4, 28, 28, 3)\n",
        "x = tf.random.normal(input_shape)\n",
        "y = tf.keras.layers.Conv2D(2, 3, activation='relu', input_shape=input_shape[1:])(x)\n",
        "print(y.shape)\n"
      ]
    },
    {
      "cell_type": "code",
      "source": [
        "input_shape = (4, 28, 28, 3)\n",
        "x = tf.random.normal(input_shape)\n",
        "y = layers.Conv2D(2, 3, activation='relu', padding=\"same\", \n",
        "\t\t\tinput_shape=input_shape[1:])(x)\n",
        "print(y.shape)\n",
        "\n"
      ],
      "metadata": {
        "colab": {
          "base_uri": "https://localhost:8080/"
        },
        "id": "-Y1Q-5mzK_ow",
        "outputId": "0ae6836d-a6aa-44f9-9be7-97bb6543ce79"
      },
      "execution_count": 2,
      "outputs": [
        {
          "output_type": "stream",
          "name": "stdout",
          "text": [
            "(4, 28, 28, 2)\n"
          ]
        }
      ]
    },
    {
      "cell_type": "code",
      "source": [
        "# MaxPooling2D\n",
        "x = tf.constant([[1., 2., 3.],     [4., 5., 6.],     [7., 8., 9.]])\n",
        "x = tf.reshape(x, [1, 3, 3, 1])\n",
        "max_pool_2d = tf.keras.layers.MaxPooling2D(pool_size=(2, 2), \n",
        "                                           strides=(1, 1), padding='valid')\n",
        "print(max_pool_2d(x))\n",
        "\n"
      ],
      "metadata": {
        "colab": {
          "base_uri": "https://localhost:8080/"
        },
        "id": "Orsun67-LBCB",
        "outputId": "3a94f689-3e76-49a8-be8a-833fa63fa871"
      },
      "execution_count": 3,
      "outputs": [
        {
          "output_type": "stream",
          "name": "stdout",
          "text": [
            "tf.Tensor(\n",
            "[[[[5.]\n",
            "   [6.]]\n",
            "\n",
            "  [[8.]\n",
            "   [9.]]]], shape=(1, 2, 2, 1), dtype=float32)\n"
          ]
        }
      ]
    },
    {
      "cell_type": "code",
      "source": [
        "# [DIY] test 'same' padding in MaxPooling2D layer\n",
        "x = tf.constant([[1., 2., 3.],     [4., 5., 6.],     [7., 8., 9.]])\n",
        "x = tf.reshape(x, [1, 3, 3, 1])\n",
        "max_pool_2d = tf.keras.layers.MaxPooling2D(pool_size=(2, 2), \n",
        "                                           strides=(1, 1), padding='same')\n",
        "print(max_pool_2d(x))"
      ],
      "metadata": {
        "colab": {
          "base_uri": "https://localhost:8080/"
        },
        "id": "N-NL0XDALBq4",
        "outputId": "ea157afe-64f2-496e-ffb8-5473db0d79a7"
      },
      "execution_count": 4,
      "outputs": [
        {
          "output_type": "stream",
          "name": "stdout",
          "text": [
            "tf.Tensor(\n",
            "[[[[5.]\n",
            "   [6.]\n",
            "   [6.]]\n",
            "\n",
            "  [[8.]\n",
            "   [9.]\n",
            "   [9.]]\n",
            "\n",
            "  [[8.]\n",
            "   [9.]\n",
            "   [9.]]]], shape=(1, 3, 3, 1), dtype=float32)\n"
          ]
        }
      ]
    },
    {
      "cell_type": "markdown",
      "source": [
        "## MNIST 필기체 숫자 인식(CNN)"
      ],
      "metadata": {
        "id": "ZNMTBHvrLUxs"
      }
    },
    {
      "cell_type": "code",
      "source": [
        "# import tensorflow as tf\n",
        "from tensorflow.keras import datasets, layers, models\n",
        "# import keras\n",
        "\n",
        "(train_images, train_labels), (test_images, test_labels) = datasets.mnist.load_data()\n",
        "train_images = train_images.reshape((60000, 28, 28, 1))\n",
        "test_images = test_images.reshape((10000, 28, 28, 1))\n",
        "\n",
        "print(train_images.shape, train_labels.shape)\n"
      ],
      "metadata": {
        "colab": {
          "base_uri": "https://localhost:8080/"
        },
        "id": "Q1GulhpJLakU",
        "outputId": "05d1c0c1-262c-4268-9281-8c31bbb5889e"
      },
      "execution_count": 13,
      "outputs": [
        {
          "output_type": "stream",
          "name": "stdout",
          "text": [
            "(60000, 28, 28, 1) (60000,)\n"
          ]
        }
      ]
    },
    {
      "cell_type": "code",
      "source": [
        "# 픽셀 값을 0~1 사이로 정규화한다. \n",
        "train_images, test_images = train_images / 255.0, test_images / 255.0\n",
        "\n",
        "\n",
        "model = models.Sequential()\n",
        "# CNN\n",
        "model.add(layers.Conv2D(32, (3, 3), activation='relu', input_shape=(28, 28, 1)))\n",
        "model.add(layers.MaxPooling2D((2, 2)))\n",
        "model.add(layers.Conv2D(64, (3, 3), activation='relu'))\n",
        "model.add(layers.MaxPooling2D((2, 2)))\n",
        "model.add(layers.Conv2D(64, (3, 3), activation='relu'))\n",
        "# DNN\n",
        "model.add(layers.Flatten())\n",
        "model.add(layers.Dense(64, activation='relu'))\n",
        "model.add(layers.Dense(10, activation='softmax'))\n",
        "\n",
        "model.summary()\n",
        "\n"
      ],
      "metadata": {
        "colab": {
          "base_uri": "https://localhost:8080/"
        },
        "id": "R8OkmkkaLfTp",
        "outputId": "da58c4ef-9ee5-48a0-b7df-c3a162ae078f"
      },
      "execution_count": 14,
      "outputs": [
        {
          "output_type": "stream",
          "name": "stdout",
          "text": [
            "Model: \"sequential_2\"\n",
            "_________________________________________________________________\n",
            " Layer (type)                Output Shape              Param #   \n",
            "=================================================================\n",
            " conv2d_8 (Conv2D)           (None, 26, 26, 32)        320       \n",
            "                                                                 \n",
            " max_pooling2d_6 (MaxPooling  (None, 13, 13, 32)       0         \n",
            " 2D)                                                             \n",
            "                                                                 \n",
            " conv2d_9 (Conv2D)           (None, 11, 11, 64)        18496     \n",
            "                                                                 \n",
            " max_pooling2d_7 (MaxPooling  (None, 5, 5, 64)         0         \n",
            " 2D)                                                             \n",
            "                                                                 \n",
            " conv2d_10 (Conv2D)          (None, 3, 3, 64)          36928     \n",
            "                                                                 \n",
            " flatten_2 (Flatten)         (None, 576)               0         \n",
            "                                                                 \n",
            " dense_4 (Dense)             (None, 64)                36928     \n",
            "                                                                 \n",
            " dense_5 (Dense)             (None, 10)                650       \n",
            "                                                                 \n",
            "=================================================================\n",
            "Total params: 93,322\n",
            "Trainable params: 93,322\n",
            "Non-trainable params: 0\n",
            "_________________________________________________________________\n"
          ]
        }
      ]
    },
    {
      "cell_type": "code",
      "source": [
        "# from tensorflow.keras.utils import plot_model\n",
        "# plot_model(model, show_shapes=True)\n",
        "\n",
        "model.compile(optimizer='adam',\n",
        "              loss='sparse_categorical_crossentropy',\n",
        "              metrics=['accuracy'])\n",
        "\n",
        "history = model.fit(train_images, train_labels, epochs=10)\n",
        "\n"
      ],
      "metadata": {
        "colab": {
          "base_uri": "https://localhost:8080/"
        },
        "id": "Hd-C2_vHLhco",
        "outputId": "a964b3f9-711e-4d09-e8f8-6950b89be312"
      },
      "execution_count": 15,
      "outputs": [
        {
          "output_type": "stream",
          "name": "stdout",
          "text": [
            "Epoch 1/10\n",
            "1875/1875 [==============================] - 71s 37ms/step - loss: 0.1370 - accuracy: 0.9579\n",
            "Epoch 2/10\n",
            "1875/1875 [==============================] - 65s 35ms/step - loss: 0.0433 - accuracy: 0.9866\n",
            "Epoch 3/10\n",
            "1875/1875 [==============================] - 67s 36ms/step - loss: 0.0306 - accuracy: 0.9907\n",
            "Epoch 4/10\n",
            "1875/1875 [==============================] - 65s 35ms/step - loss: 0.0249 - accuracy: 0.9922\n",
            "Epoch 5/10\n",
            "1875/1875 [==============================] - 66s 35ms/step - loss: 0.0188 - accuracy: 0.9939\n",
            "Epoch 6/10\n",
            "1875/1875 [==============================] - 66s 35ms/step - loss: 0.0154 - accuracy: 0.9952\n",
            "Epoch 7/10\n",
            "1875/1875 [==============================] - 73s 39ms/step - loss: 0.0144 - accuracy: 0.9955\n",
            "Epoch 8/10\n",
            "1875/1875 [==============================] - 68s 36ms/step - loss: 0.0106 - accuracy: 0.9966\n",
            "Epoch 9/10\n",
            "1875/1875 [==============================] - 70s 37ms/step - loss: 0.0100 - accuracy: 0.9966\n",
            "Epoch 10/10\n",
            "1875/1875 [==============================] - 69s 37ms/step - loss: 0.0093 - accuracy: 0.9967\n"
          ]
        }
      ]
    },
    {
      "cell_type": "code",
      "source": [
        "#\n",
        "# [DIY-1] training history를 이용홰서 loss와 accuracy 그래프 그리기\n",
        "#\n",
        "import matplotlib.pyplot as plt\n",
        "\n",
        "loss = history.history['loss']\n",
        "acc = history.history['accuracy']\n",
        "epochs = range(1, len(loss)+1)\n",
        "\n",
        "plt.plot(epochs, loss, 'b', label='Training Loss')\n",
        "plt.plot(epochs, acc, 'r', label='Accuracy')\n",
        "plt.xlabel('epochs')\n",
        "plt.ylabel('loss/acc')\n",
        "plt.show()"
      ],
      "metadata": {
        "colab": {
          "base_uri": "https://localhost:8080/",
          "height": 449
        },
        "id": "3NPnHJYxLioY",
        "outputId": "11244185-0223-45e8-f8a7-115c4cdabc7e"
      },
      "execution_count": 16,
      "outputs": [
        {
          "output_type": "display_data",
          "data": {
            "text/plain": [
              "<Figure size 640x480 with 1 Axes>"
            ],
            "image/png": "[encoded data removed]"
          },
          "metadata": {}
        }
      ]
    },
    {
      "cell_type": "code",
      "source": [
        "#\n",
        "# [DIY-2] test 데이터에 모델 적용하고 정확도 계산\n",
        "#\n",
        "test_loss, test_acc = model.evaluate(test_images, test_labels)\n",
        "print('테스트 정확도:', test_acc)\n"
      ],
      "metadata": {
        "colab": {
          "base_uri": "https://localhost:8080/"
        },
        "id": "OWMe17MgMWUI",
        "outputId": "87eb6b2f-b99f-4a54-dbbc-44e429154ebb"
      },
      "execution_count": 17,
      "outputs": [
        {
          "output_type": "stream",
          "name": "stdout",
          "text": [
            "313/313 [==============================] - 3s 10ms/step - loss: 0.0279 - accuracy: 0.9916\n",
            "테스트 정확도: 0.991599977016449\n"
          ]
        }
      ]
    },
    {
      "cell_type": "markdown",
      "source": [
        "----------------"
      ],
      "metadata": {
        "id": "fnvyZl99MWzQ"
      }
    },
    {
      "cell_type": "code",
      "source": [
        "#\n",
        "# [Prj-3] test 데이터를 validation으로 설정해서 모델을 다시 훈련시키시오.\n",
        "# 그리고 training history를 이용해서 loss, val_loss와 accuracy, val-accuracy 그래프 그리기\n",
        "# file name: dlxx_prj03_CNN_MNIST.ipynb\n",
        "# 깃허브의 project 폴더에 저장하시오.\n",
        "#"
      ],
      "metadata": {
        "id": "myloX8BoSje9"
      },
      "execution_count": null,
      "outputs": []
    },
    {
      "cell_type": "code",
      "source": [
        "model.compile(optimizer='adam',\n",
        "              loss='sparse_categorical_crossentropy',\n",
        "              metrics=['accuracy'])\n",
        "\n",
        "history = model.fit(train_images, train_labels, epochs=10, validation_data=(test_images, test_labels))\n"
      ],
      "metadata": {
        "colab": {
          "base_uri": "https://localhost:8080/"
        },
        "id": "Y5HRynWxSSDZ",
        "outputId": "338e75cf-fabe-4501-95cf-7ecdf8d2e6d8"
      },
      "execution_count": 18,
      "outputs": [
        {
          "output_type": "stream",
          "name": "stdout",
          "text": [
            "Epoch 1/10\n",
            "1875/1875 [==============================] - 77s 40ms/step - loss: 0.0093 - accuracy: 0.9968 - val_loss: 0.0287 - val_accuracy: 0.9934\n",
            "Epoch 2/10\n",
            "1875/1875 [==============================] - 74s 39ms/step - loss: 0.0080 - accuracy: 0.9971 - val_loss: 0.0375 - val_accuracy: 0.9924\n",
            "Epoch 3/10\n",
            "1875/1875 [==============================] - 78s 42ms/step - loss: 0.0057 - accuracy: 0.9982 - val_loss: 0.0422 - val_accuracy: 0.9924\n",
            "Epoch 4/10\n",
            "1875/1875 [==============================] - 70s 37ms/step - loss: 0.0067 - accuracy: 0.9977 - val_loss: 0.0444 - val_accuracy: 0.9915\n",
            "Epoch 5/10\n",
            "1875/1875 [==============================] - 69s 37ms/step - loss: 0.0071 - accuracy: 0.9977 - val_loss: 0.0438 - val_accuracy: 0.9910\n",
            "Epoch 6/10\n",
            "1875/1875 [==============================] - 69s 37ms/step - loss: 0.0054 - accuracy: 0.9982 - val_loss: 0.0452 - val_accuracy: 0.9909\n",
            "Epoch 7/10\n",
            "1875/1875 [==============================] - 67s 36ms/step - loss: 0.0054 - accuracy: 0.9984 - val_loss: 0.0425 - val_accuracy: 0.9924\n",
            "Epoch 8/10\n",
            "1875/1875 [==============================] - 67s 36ms/step - loss: 0.0049 - accuracy: 0.9984 - val_loss: 0.0446 - val_accuracy: 0.9910\n",
            "Epoch 9/10\n",
            "1875/1875 [==============================] - 67s 36ms/step - loss: 0.0058 - accuracy: 0.9983 - val_loss: 0.0470 - val_accuracy: 0.9911\n",
            "Epoch 10/10\n",
            "1875/1875 [==============================] - 71s 38ms/step - loss: 0.0049 - accuracy: 0.9985 - val_loss: 0.0507 - val_accuracy: 0.9903\n"
          ]
        }
      ]
    },
    {
      "cell_type": "code",
      "source": [
        "import matplotlib.pyplot as plt\n",
        "\n",
        "# 훈련 손실과 검증 손실 그래프\n",
        "plt.figure(figsize=(8, 4))\n",
        "plt.plot(history.history['loss'], label='Train Loss')\n",
        "plt.plot(history.history['val_loss'], label='Validation Loss')\n",
        "plt.title('Training and Validation Loss')\n",
        "plt.xlabel('Epochs')\n",
        "plt.ylabel('Loss')\n",
        "plt.legend()\n",
        "plt.show()\n",
        "\n",
        "# 훈련 정확도와 검증 정확도 그래프\n",
        "plt.figure(figsize=(8, 4))\n",
        "plt.plot(history.history['accuracy'], label='Train Accuracy')\n",
        "plt.plot(history.history['val_accuracy'], label='Validation Accuracy')\n",
        "plt.title('Training and Validation Accuracy')\n",
        "plt.xlabel('Epochs')\n",
        "plt.ylabel('Accuracy')\n",
        "plt.legend()\n",
        "plt.show()"
      ],
      "metadata": {
        "colab": {
          "base_uri": "https://localhost:8080/",
          "height": 803
        },
        "id": "ZGspV5LVScwb",
        "outputId": "5d2c2580-40f8-4f78-c533-59974abcf853"
      },
      "execution_count": 19,
      "outputs": [
        {
          "output_type": "display_data",
          "data": {
            "text/plain": [
              "<Figure size 800x400 with 1 Axes>"
            ],
            "image/png": "[encoded data removed]"
          },
          "metadata": {}
        },
        {
          "output_type": "display_data",
          "data": {
            "text/plain": [
              "<Figure size 800x400 with 1 Axes>"
            ],
            "image/png": "[encoded data removed]"
          },
          "metadata": {}
        }
      ]
    }
  ]
}