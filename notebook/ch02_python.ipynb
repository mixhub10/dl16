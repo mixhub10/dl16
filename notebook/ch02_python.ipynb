{
  "nbformat": 4,
  "nbformat_minor": 0,
  "metadata": {
    "colab": {
      "provenance": [],
      "authorship_tag": "ABX9TyNdNZHkgAJ4rzmbT5TdQbqi",
      "include_colab_link": true
    },
    "kernelspec": {
      "name": "python3",
      "display_name": "Python 3"
    },
    "language_info": {
      "name": "python"
    }
  },
  "cells": [
    {
      "cell_type": "markdown",
      "metadata": {
        "id": "view-in-github",
        "colab_type": "text"
      },
      "source": [
        "<a href=\"https://colab.research.google.com/github/mixhub10/dl16/blob/main/notebook/ch02_python.ipynb\" target=\"_parent\"><img src=\"https://colab.research.google.com/assets/colab-badge.svg\" alt=\"Open In Colab\"/></a>"
      ]
    },
    {
      "cell_type": "markdown",
      "source": [
        "#ch02_python.ipynb\n",
        "##dl16\n",
        "- 파이썬 복습"
      ],
      "metadata": {
        "id": "x1qBWFLIzfmA"
      }
    },
    {
      "cell_type": "code",
      "execution_count": 1,
      "metadata": {
        "id": "GyrtC5mRy2hU",
        "colab": {
          "base_uri": "https://localhost:8080/"
        },
        "outputId": "edc54c32-0a6c-44d2-a36e-6ae7a19033c8"
      },
      "outputs": [
        {
          "output_type": "execute_result",
          "data": {
            "text/plain": [
              "314.0"
            ]
          },
          "metadata": {},
          "execution_count": 1
        }
      ],
      "source": [
        "# cap02 - python basics\n",
        "#\n",
        "3.14 * 10 * 10 \n",
        "\n",
        "3.14 * 10**2\n"
      ]
    },
    {
      "cell_type": "code",
      "source": [
        "\n",
        "\n",
        "type(10)\n",
        "\n",
        "type(3.14)\n",
        "\n",
        "type(\"python\")\n"
      ],
      "metadata": {
        "id": "gR3jRZEq06sL",
        "colab": {
          "base_uri": "https://localhost:8080/"
        },
        "outputId": "601ac603-0290-401a-c57a-006d6fc5e557"
      },
      "execution_count": 2,
      "outputs": [
        {
          "output_type": "execute_result",
          "data": {
            "text/plain": [
              "str"
            ]
          },
          "metadata": {},
          "execution_count": 2
        }
      ]
    },
    {
      "cell_type": "code",
      "source": [
        "\n",
        "\n",
        "r = 20\n",
        "\n",
        "PI = 3.14\t\t# 원주율 정의\n",
        "\n",
        "area = PI * r**2\n",
        "\n",
        "area\n"
      ],
      "metadata": {
        "id": "EUIXERyY08cg",
        "colab": {
          "base_uri": "https://localhost:8080/"
        },
        "outputId": "ed583904-4a46-44fc-b637-26ac28f4d302"
      },
      "execution_count": 3,
      "outputs": [
        {
          "output_type": "execute_result",
          "data": {
            "text/plain": [
              "1256.0"
            ]
          },
          "metadata": {},
          "execution_count": 3
        }
      ]
    },
    {
      "cell_type": "code",
      "source": [
        "\n",
        "# list\n",
        "lst = [ 10, 20, 30, 40, 50]\t\t# 리스트 정의\n",
        "\n",
        "lst\n"
      ],
      "metadata": {
        "id": "uB6o_ka2091Y",
        "colab": {
          "base_uri": "https://localhost:8080/"
        },
        "outputId": "c7b4f8e9-aab6-478c-85de-ba77895129a4"
      },
      "execution_count": 4,
      "outputs": [
        {
          "output_type": "execute_result",
          "data": {
            "text/plain": [
              "[10, 20, 30, 40, 50]"
            ]
          },
          "metadata": {},
          "execution_count": 4
        }
      ]
    },
    {
      "cell_type": "code",
      "source": [
        "\n",
        "# indexing & slicing\n",
        "lst[2] \t\t\t\t# 리스트의 요소 접근\n",
        "\n",
        "lst[2] = 90\t\t\t# 세 번째 요소를 90으로 변경\n",
        "\n",
        "lst\n",
        "\n",
        "len(lst)\n",
        "\n",
        "lst[0:3]\n",
        "\n",
        "lst[2:]\t\n",
        "\n",
        "lst[:3]\n",
        "\n",
        "lst[:-1]\n"
      ],
      "metadata": {
        "id": "f8NSHr4T1AMg",
        "colab": {
          "base_uri": "https://localhost:8080/"
        },
        "outputId": "053009c1-995e-4783-ee54-6041d90a2f70"
      },
      "execution_count": 5,
      "outputs": [
        {
          "output_type": "execute_result",
          "data": {
            "text/plain": [
              "[10, 20, 90, 40]"
            ]
          },
          "metadata": {},
          "execution_count": 5
        }
      ]
    },
    {
      "cell_type": "code",
      "source": [
        "\n",
        "# dictionary\n",
        "car = { 'HP':200, 'make': \"BNW\" }\t# 딕셔너리 정의\n",
        "\n",
        "car['HP']\n",
        "\n",
        "car['color'] = \"white\"\n",
        "\n",
        "car\n"
      ],
      "metadata": {
        "id": "oQNFt1nk1BKY",
        "colab": {
          "base_uri": "https://localhost:8080/"
        },
        "outputId": "b02450c4-807d-44cb-f6c5-87f83179e14a"
      },
      "execution_count": 6,
      "outputs": [
        {
          "output_type": "execute_result",
          "data": {
            "text/plain": [
              "{'HP': 200, 'make': 'BNW', 'color': 'white'}"
            ]
          },
          "metadata": {},
          "execution_count": 6
        }
      ]
    },
    {
      "cell_type": "code",
      "source": [
        "\n",
        "# Conditional\n",
        "temp = -10\n",
        "\n",
        "if temp < 0 :\n",
        "    print(\"영하입니다.\")\t\n",
        "else:\n",
        "    print(\"영상입니다.\")\n"
      ],
      "metadata": {
        "id": "hBYwLXX01B5g",
        "colab": {
          "base_uri": "https://localhost:8080/"
        },
        "outputId": "f5c06191-7bac-4244-d3f2-3794e27a4b2e"
      },
      "execution_count": 7,
      "outputs": [
        {
          "output_type": "stream",
          "name": "stdout",
          "text": [
            "영하입니다.\n"
          ]
        }
      ]
    },
    {
      "cell_type": "code",
      "source": [
        "\n",
        "# loop\n",
        "for i in [1, 2, 3, 4, 5] :\n",
        "    print(i, end=\" \")\n"
      ],
      "metadata": {
        "id": "_AcjjXIb1Cko",
        "colab": {
          "base_uri": "https://localhost:8080/"
        },
        "outputId": "e243c34b-3156-4b9e-8c69-a9eab6a2cffc"
      },
      "execution_count": 8,
      "outputs": [
        {
          "output_type": "stream",
          "name": "stdout",
          "text": [
            "1 2 3 4 5 "
          ]
        }
      ]
    },
    {
      "cell_type": "code",
      "source": [
        "\n",
        "# functio\n",
        "def sayHello():\n",
        "    print(\"Hello!\")\n",
        "\n",
        "sayHello()\n"
      ],
      "metadata": {
        "id": "Ev5YZ0Vt1DKf",
        "colab": {
          "base_uri": "https://localhost:8080/"
        },
        "outputId": "413f3616-b3ee-40ed-95e9-0ae1e0ff575a"
      },
      "execution_count": 9,
      "outputs": [
        {
          "output_type": "stream",
          "name": "stdout",
          "text": [
            "Hello!\n"
          ]
        }
      ]
    },
    {
      "cell_type": "code",
      "source": [
        "\n",
        "# class\n",
        "class Person:\n",
        "  def __init__(self, name, age):\n",
        "    self.name = name\n",
        "    self.age = age\n",
        "\n",
        "  def sayHello(self):\n",
        "    print(\"Hello 나의 이름은 \" + self.name)\n",
        "\n",
        "p1 = Person(\"John\", 36)\n",
        "p1.sayHello()\n"
      ],
      "metadata": {
        "id": "UHeAnz3a1D0A",
        "colab": {
          "base_uri": "https://localhost:8080/"
        },
        "outputId": "ce600944-f5fa-40b5-bfc7-e5908dfe2b7a"
      },
      "execution_count": 10,
      "outputs": [
        {
          "output_type": "stream",
          "name": "stdout",
          "text": [
            "Hello 나의 이름은 John\n"
          ]
        }
      ]
    },
    {
      "cell_type": "code",
      "source": [
        "\n",
        "# [DIY] 이름과 나이를 다 출력하게 코드를 변경하시오.\n",
        "#################################################\n",
        "class Person:\n",
        "  def __init__(self, name, age):\n",
        "    self.name = name\n",
        "    self.age = age\n",
        "\n",
        "  def sayHello(self):\n",
        "    print(\"Hello 나의 이름은 \" + self.name + \" 나이는 \" + str(self.age))\n",
        "\n",
        "p1 = Person(\"kimminje\", 25)\n",
        "p1.sayHello()"
      ],
      "metadata": {
        "id": "9FMHzdiz1E14",
        "colab": {
          "base_uri": "https://localhost:8080/"
        },
        "outputId": "6826bec7-150a-4261-fddc-6137adda9fc2"
      },
      "execution_count": 11,
      "outputs": [
        {
          "output_type": "stream",
          "name": "stdout",
          "text": [
            "Hello 나의 이름은 kimminje 나이는 25\n"
          ]
        }
      ]
    }
  ]
}