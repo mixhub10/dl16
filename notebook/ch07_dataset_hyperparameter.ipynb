{
  "nbformat": 4,
  "nbformat_minor": 0,
  "metadata": {
    "colab": {
      "provenance": [],
      "authorship_tag": "ABX9TyPXdxey6jrXgnXl4F7WK5Hg",
      "include_colab_link": true
    },
    "kernelspec": {
      "name": "python3",
      "display_name": "Python 3"
    },
    "language_info": {
      "name": "python"
    }
  },
  "cells": [
    {
      "cell_type": "markdown",
      "metadata": {
        "id": "view-in-github",
        "colab_type": "text"
      },
      "source": [
        "<a href=\"https://colab.research.google.com/github/mixhub10/dl16/blob/main/notebook/ch07_dataset_hyperparameter.ipynb\" target=\"_parent\"><img src=\"https://colab.research.google.com/assets/colab-badge.svg\" alt=\"Open In Colab\"/></a>"
      ]
    },
    {
      "cell_type": "markdown",
      "source": [
        "## hyperparameter selection"
      ],
      "metadata": {
        "id": "Pb-NPDpYGaW9"
      }
    },
    {
      "cell_type": "code",
      "execution_count": 5,
      "metadata": {
        "colab": {
          "base_uri": "https://localhost:8080/"
        },
        "id": "VF7yS7O_GWQy",
        "outputId": "17e01f65-9b6d-4cf2-e40c-3236b31cd46d"
      },
      "outputs": [
        {
          "output_type": "execute_result",
          "data": {
            "text/plain": [
              "((3, 2, 3), 3, dtype('int64'))"
            ]
          },
          "metadata": {},
          "execution_count": 5
        }
      ],
      "source": [
        "# datasets\n",
        "import numpy as np\n",
        "\n",
        "array = np.array([[[1, 2, 3], [4, 5, 6]], [[7, 8, 9], [10, 11, 12]], [[13, 14, 15], [16, 17, 18]]])\n",
        "array.shape, array.ndim, array.dtype\n",
        "\n",
        "     "
      ]
    },
    {
      "cell_type": "code",
      "source": [
        "\n",
        "\n",
        "arr1 = np.empty((3, 4, 5, 6)) # zeros(), ones()\n",
        "arr1.shape\n",
        "\n",
        "     \n"
      ],
      "metadata": {
        "colab": {
          "base_uri": "https://localhost:8080/"
        },
        "id": "K24x69okSXZO",
        "outputId": "9ec4855a-2e2c-4b26-aeee-da397a05d2e2"
      },
      "execution_count": 6,
      "outputs": [
        {
          "output_type": "execute_result",
          "data": {
            "text/plain": [
              "(3, 4, 5, 6)"
            ]
          },
          "metadata": {},
          "execution_count": 6
        }
      ]
    },
    {
      "cell_type": "code",
      "source": [
        "\n",
        "\n",
        "# vector records\n",
        "arr2 = np.random.randn(500,8) # \n",
        "arr2.shape\n",
        "\n",
        "     \n"
      ],
      "metadata": {
        "colab": {
          "base_uri": "https://localhost:8080/"
        },
        "id": "HyZtoLwXSY4N",
        "outputId": "0082d01b-e5d0-4b11-968d-006f0ddb6deb"
      },
      "execution_count": 7,
      "outputs": [
        {
          "output_type": "execute_result",
          "data": {
            "text/plain": [
              "(500, 8)"
            ]
          },
          "metadata": {},
          "execution_count": 7
        }
      ]
    },
    {
      "cell_type": "code",
      "source": [
        "\n",
        "\n",
        "# color images\n",
        "arr3 = np.empty((60000,28,28,3)) #\n",
        "arr3.shape\n",
        "\n",
        "     "
      ],
      "metadata": {
        "colab": {
          "base_uri": "https://localhost:8080/"
        },
        "id": "ZcWW7X5uSYYd",
        "outputId": "9f46f8cb-06f6-46a5-df8d-a611efc807c8"
      },
      "execution_count": 8,
      "outputs": [
        {
          "output_type": "execute_result",
          "data": {
            "text/plain": [
              "(60000, 28, 28, 3)"
            ]
          },
          "metadata": {},
          "execution_count": 8
        }
      ]
    },
    {
      "cell_type": "code",
      "source": [
        "\n",
        "\n",
        "\n",
        "# time series\n",
        "arr4 = np.random.randn(20,365,4) # \n",
        "arr4.shape\n"
      ],
      "metadata": {
        "colab": {
          "base_uri": "https://localhost:8080/"
        },
        "id": "YQ6-jADVSX7t",
        "outputId": "85ab1fd1-ca46-47b4-d224-e630da498e7c"
      },
      "execution_count": 9,
      "outputs": [
        {
          "output_type": "execute_result",
          "data": {
            "text/plain": [
              "(20, 365, 4)"
            ]
          },
          "metadata": {},
          "execution_count": 9
        }
      ]
    },
    {
      "cell_type": "markdown",
      "source": [
        "-----"
      ],
      "metadata": {
        "id": "25E_CF7BO6OS"
      }
    },
    {
      "cell_type": "markdown",
      "source": [
        "## hyperparameter search\n",
        "- epochs\n",
        "- batch_size"
      ],
      "metadata": {
        "id": "-qPA9x2RO8Lr"
      }
    },
    {
      "cell_type": "code",
      "source": [
        "!pip install scikeras"
      ],
      "metadata": {
        "colab": {
          "base_uri": "https://localhost:8080/"
        },
        "id": "Sm4bPDwUPOw1",
        "outputId": "8dc03054-5e14-496e-fbe4-55280a282308"
      },
      "execution_count": 1,
      "outputs": [
        {
          "output_type": "stream",
          "name": "stdout",
          "text": [
            "Looking in indexes: https://pypi.org/simple, https://us-python.pkg.dev/colab-wheels/public/simple/\n",
            "Collecting scikeras\n",
            "  Downloading scikeras-0.10.0-py3-none-any.whl (27 kB)\n",
            "Requirement already satisfied: packaging>=0.21 in /usr/local/lib/python3.10/dist-packages (from scikeras) (23.1)\n",
            "Requirement already satisfied: scikit-learn>=1.0.0 in /usr/local/lib/python3.10/dist-packages (from scikeras) (1.2.2)\n",
            "Requirement already satisfied: joblib>=1.1.1 in /usr/local/lib/python3.10/dist-packages (from scikit-learn>=1.0.0->scikeras) (1.2.0)\n",
            "Requirement already satisfied: threadpoolctl>=2.0.0 in /usr/local/lib/python3.10/dist-packages (from scikit-learn>=1.0.0->scikeras) (3.1.0)\n",
            "Requirement already satisfied: scipy>=1.3.2 in /usr/local/lib/python3.10/dist-packages (from scikit-learn>=1.0.0->scikeras) (1.10.1)\n",
            "Requirement already satisfied: numpy>=1.17.3 in /usr/local/lib/python3.10/dist-packages (from scikit-learn>=1.0.0->scikeras) (1.22.4)\n",
            "Installing collected packages: scikeras\n",
            "Successfully installed scikeras-0.10.0\n"
          ]
        }
      ]
    },
    {
      "cell_type": "code",
      "source": [
        "# import numpy as np \n",
        "# import matplotlib.pyplot as plt \n",
        "import tensorflow as tf\n",
        "from sklearn.model_selection import GridSearchCV\n",
        "# from tensorflow.keras.wrappers.scikit_learn import KerasClassifier\n",
        "from scikeras.wrappers import KerasClassifier\n",
        "# OS warning cure\n",
        "import os\n",
        "os.environ['TF_CPP_MIN_LOG_LEVEL'] = '3'\n",
        "\n",
        "# 데이터 세트 준비\n",
        "(train_images, train_labels), (test_images, test_labels) = tf.keras.datasets.mnist.load_data()\n",
        "\n",
        "train_images = train_images.reshape((60000, 28 * 28))\n",
        "train_images = train_images.astype('float32') / 255\n",
        "\n",
        "test_images = test_images.reshape((10000, 28 * 28))\n",
        "test_images = test_images.astype('float32') / 255\n",
        "\n",
        "train_labels = tf.keras.utils.to_categorical(train_labels)\n",
        "test_labels = tf.keras.utils.to_categorical(test_labels)\n",
        "             "
      ],
      "metadata": {
        "colab": {
          "base_uri": "https://localhost:8080/"
        },
        "id": "Pi3G_s5zO498",
        "outputId": "7c346af1-5ef6-4bbb-8694-42f5136cd6d2"
      },
      "execution_count": 2,
      "outputs": [
        {
          "output_type": "stream",
          "name": "stdout",
          "text": [
            "Downloading data from https://storage.googleapis.com/tensorflow/tf-keras-datasets/mnist.npz\n",
            "11490434/11490434 [==============================] - 0s 0us/step\n"
          ]
        }
      ]
    },
    {
      "cell_type": "code",
      "source": [
        "                \n",
        "# 신경망 모델 구축\n",
        "def build_model():\n",
        "    network = tf.keras.models.Sequential()\n",
        "    network.add(tf.keras.layers.Dense(512, activation='relu', input_shape=(28 * 28,)))\n",
        "    network.add(tf.keras.layers.Dense(10, activation='sigmoid'))\n",
        "\n",
        "    network.compile(optimizer='rmsprop',\n",
        "                loss='categorical_crossentropy',\n",
        "                metrics=['accuracy'])\n",
        "    return network\n",
        "\n",
        "# 하이퍼 매개변수 딕셔너리\n",
        "param_grid = {\n",
        "              'epochs':[1, 2, 3],\t# 에포크 수: 1, 2, 3\n",
        "              'batch_size':[32, 64, 100]\t# 배치 크기: 32, 64, 100\n",
        "             }\n"
      ],
      "metadata": {
        "id": "euZApTH4PKW_"
      },
      "execution_count": 3,
      "outputs": []
    },
    {
      "cell_type": "code",
      "source": [
        "\n",
        "# 케라스 모델을 scikeras에서 사용하도록 포장한다. \n",
        "model = KerasClassifier(model = build_model, verbose=1)\n",
        "\n",
        "## Elapsed time start\n",
        "import time\n",
        "start = time.time()\n",
        "\n",
        "# 그리드 검색\n",
        "gs = GridSearchCV(\n",
        "    estimator=model,\n",
        "    param_grid=param_grid, \n",
        "    cv=3, \n",
        "    # n_jobs=-1 # comment this line to avoid out-of-memory\n",
        ")\n",
        "\n",
        "# 그리드 검색 결과 출력\n",
        "grid_result = gs.fit(train_images, train_labels)\n",
        "\n",
        "## Elapsed time end\n",
        "end = time.time()\n",
        "print('Elapsed time:', end - start) # Elapsed time: 122.5, 189.5\n",
        "\n",
        "print(grid_result.best_score_) # 0.9725, 0.9711\n",
        "print(grid_result.best_params_) # {'batch_size': 64, 'epochs': 3}\n"
      ],
      "metadata": {
        "colab": {
          "base_uri": "https://localhost:8080/"
        },
        "id": "MGLPLIBOPMtW",
        "outputId": "522a73b6-9a79-4d62-a5a0-07179c129aa2"
      },
      "execution_count": 4,
      "outputs": [
        {
          "output_type": "stream",
          "name": "stdout",
          "text": [
            "1250/1250 [==============================] - 10s 7ms/step - loss: 0.2400 - accuracy: 0.9295\n",
            "625/625 [==============================] - 2s 3ms/step\n",
            "1250/1250 [==============================] - 9s 7ms/step - loss: 0.2430 - accuracy: 0.9275\n",
            "625/625 [==============================] - 2s 3ms/step\n",
            "1250/1250 [==============================] - 9s 7ms/step - loss: 0.2408 - accuracy: 0.9294\n",
            "625/625 [==============================] - 1s 2ms/step\n",
            "Epoch 1/2\n",
            "1250/1250 [==============================] - 9s 7ms/step - loss: 0.2393 - accuracy: 0.9288\n",
            "Epoch 2/2\n",
            "1250/1250 [==============================] - 7s 6ms/step - loss: 0.0996 - accuracy: 0.9698\n",
            "625/625 [==============================] - 2s 3ms/step\n",
            "Epoch 1/2\n",
            "1250/1250 [==============================] - 8s 6ms/step - loss: 0.2402 - accuracy: 0.9285\n",
            "Epoch 2/2\n",
            "1250/1250 [==============================] - 9s 8ms/step - loss: 0.1020 - accuracy: 0.9700\n",
            "625/625 [==============================] - 1s 2ms/step\n",
            "Epoch 1/2\n",
            "1250/1250 [==============================] - 9s 7ms/step - loss: 0.2368 - accuracy: 0.9308\n",
            "Epoch 2/2\n",
            "1250/1250 [==============================] - 8s 6ms/step - loss: 0.0984 - accuracy: 0.9707\n",
            "625/625 [==============================] - 2s 3ms/step\n",
            "Epoch 1/3\n",
            "1250/1250 [==============================] - 8s 6ms/step - loss: 0.2407 - accuracy: 0.9286\n",
            "Epoch 2/3\n",
            "1250/1250 [==============================] - 8s 7ms/step - loss: 0.1023 - accuracy: 0.9692\n",
            "Epoch 3/3\n",
            "1250/1250 [==============================] - 8s 6ms/step - loss: 0.0676 - accuracy: 0.9796\n",
            "625/625 [==============================] - 2s 3ms/step\n",
            "Epoch 1/3\n",
            "1250/1250 [==============================] - 8s 6ms/step - loss: 0.2394 - accuracy: 0.9289\n",
            "Epoch 2/3\n",
            "1250/1250 [==============================] - 8s 7ms/step - loss: 0.0990 - accuracy: 0.9704\n",
            "Epoch 3/3\n",
            "1250/1250 [==============================] - 8s 7ms/step - loss: 0.0672 - accuracy: 0.9798\n",
            "625/625 [==============================] - 2s 2ms/step\n",
            "Epoch 1/3\n",
            "1250/1250 [==============================] - 9s 7ms/step - loss: 0.2388 - accuracy: 0.9298\n",
            "Epoch 2/3\n",
            "1250/1250 [==============================] - 8s 7ms/step - loss: 0.0985 - accuracy: 0.9712\n",
            "Epoch 3/3\n",
            "1250/1250 [==============================] - 7s 6ms/step - loss: 0.0653 - accuracy: 0.9803\n",
            "625/625 [==============================] - 1s 2ms/step\n",
            "625/625 [==============================] - 5s 8ms/step - loss: 0.2693 - accuracy: 0.9213\n",
            "313/313 [==============================] - 1s 3ms/step\n",
            "625/625 [==============================] - 5s 7ms/step - loss: 0.2649 - accuracy: 0.9232\n",
            "313/313 [==============================] - 1s 4ms/step\n",
            "625/625 [==============================] - 5s 7ms/step - loss: 0.2707 - accuracy: 0.9216\n",
            "313/313 [==============================] - 1s 3ms/step\n",
            "Epoch 1/2\n",
            "625/625 [==============================] - 5s 8ms/step - loss: 0.2712 - accuracy: 0.9208\n",
            "Epoch 2/2\n",
            "625/625 [==============================] - 4s 7ms/step - loss: 0.1127 - accuracy: 0.9659\n",
            "313/313 [==============================] - 1s 3ms/step\n",
            "Epoch 1/2\n",
            "625/625 [==============================] - 5s 7ms/step - loss: 0.2639 - accuracy: 0.9244\n",
            "Epoch 2/2\n",
            "625/625 [==============================] - 5s 8ms/step - loss: 0.1111 - accuracy: 0.9672\n",
            "313/313 [==============================] - 1s 3ms/step\n",
            "Epoch 1/2\n",
            "625/625 [==============================] - 5s 7ms/step - loss: 0.2676 - accuracy: 0.9223\n",
            "Epoch 2/2\n",
            "625/625 [==============================] - 5s 8ms/step - loss: 0.1085 - accuracy: 0.9682\n",
            "313/313 [==============================] - 1s 3ms/step\n",
            "Epoch 1/3\n",
            "625/625 [==============================] - 5s 7ms/step - loss: 0.2660 - accuracy: 0.9222\n",
            "Epoch 2/3\n",
            "625/625 [==============================] - 5s 8ms/step - loss: 0.1121 - accuracy: 0.9673\n",
            "Epoch 3/3\n",
            "625/625 [==============================] - 5s 7ms/step - loss: 0.0733 - accuracy: 0.9770\n",
            "313/313 [==============================] - 1s 4ms/step\n",
            "Epoch 1/3\n",
            "625/625 [==============================] - 5s 7ms/step - loss: 0.2639 - accuracy: 0.9236\n",
            "Epoch 2/3\n",
            "625/625 [==============================] - 4s 7ms/step - loss: 0.1084 - accuracy: 0.9673\n",
            "Epoch 3/3\n",
            "625/625 [==============================] - 5s 8ms/step - loss: 0.0702 - accuracy: 0.9783\n",
            "313/313 [==============================] - 1s 3ms/step\n",
            "Epoch 1/3\n",
            "625/625 [==============================] - 5s 7ms/step - loss: 0.2682 - accuracy: 0.9208\n",
            "Epoch 2/3\n",
            "625/625 [==============================] - 4s 7ms/step - loss: 0.1095 - accuracy: 0.9676\n",
            "Epoch 3/3\n",
            "625/625 [==============================] - 5s 8ms/step - loss: 0.0709 - accuracy: 0.9787\n",
            "313/313 [==============================] - 1s 3ms/step\n",
            "400/400 [==============================] - 4s 8ms/step - loss: 0.2978 - accuracy: 0.9136\n",
            "200/200 [==============================] - 1s 3ms/step\n",
            "400/400 [==============================] - 4s 9ms/step - loss: 0.2917 - accuracy: 0.9150\n",
            "200/200 [==============================] - 1s 3ms/step\n",
            "400/400 [==============================] - 4s 8ms/step - loss: 0.2986 - accuracy: 0.9153\n",
            "200/200 [==============================] - 1s 3ms/step\n",
            "Epoch 1/2\n",
            "400/400 [==============================] - 5s 10ms/step - loss: 0.2941 - accuracy: 0.9155\n",
            "Epoch 2/2\n",
            "400/400 [==============================] - 3s 8ms/step - loss: 0.1256 - accuracy: 0.9636\n",
            "200/200 [==============================] - 1s 3ms/step\n",
            "Epoch 1/2\n",
            "400/400 [==============================] - 4s 8ms/step - loss: 0.2945 - accuracy: 0.9153\n",
            "Epoch 2/2\n",
            "400/400 [==============================] - 4s 10ms/step - loss: 0.1239 - accuracy: 0.9631\n",
            "200/200 [==============================] - 1s 4ms/step\n",
            "Epoch 1/2\n",
            "400/400 [==============================] - 4s 8ms/step - loss: 0.3001 - accuracy: 0.9133\n",
            "Epoch 2/2\n",
            "400/400 [==============================] - 3s 8ms/step - loss: 0.1246 - accuracy: 0.9634\n",
            "200/200 [==============================] - 1s 3ms/step\n",
            "Epoch 1/3\n",
            "400/400 [==============================] - 4s 8ms/step - loss: 0.3002 - accuracy: 0.9121\n",
            "Epoch 2/3\n",
            "400/400 [==============================] - 3s 8ms/step - loss: 0.1276 - accuracy: 0.9630\n",
            "Epoch 3/3\n",
            "400/400 [==============================] - 4s 10ms/step - loss: 0.0841 - accuracy: 0.9751\n",
            "200/200 [==============================] - 1s 3ms/step\n",
            "Epoch 1/3\n",
            "400/400 [==============================] - 4s 8ms/step - loss: 0.2915 - accuracy: 0.9164\n",
            "Epoch 2/3\n",
            "400/400 [==============================] - 3s 8ms/step - loss: 0.1217 - accuracy: 0.9650\n",
            "Epoch 3/3\n",
            "400/400 [==============================] - 4s 10ms/step - loss: 0.0789 - accuracy: 0.9761\n",
            "200/200 [==============================] - 1s 4ms/step\n",
            "Epoch 1/3\n",
            "400/400 [==============================] - 4s 8ms/step - loss: 0.2989 - accuracy: 0.9148\n",
            "Epoch 2/3\n",
            "400/400 [==============================] - 3s 8ms/step - loss: 0.1242 - accuracy: 0.9627\n",
            "Epoch 3/3\n",
            "400/400 [==============================] - 4s 10ms/step - loss: 0.0792 - accuracy: 0.9761\n",
            "200/200 [==============================] - 1s 5ms/step\n",
            "Epoch 1/3\n",
            "938/938 [==============================] - 7s 7ms/step - loss: 0.2260 - accuracy: 0.9333\n",
            "Epoch 2/3\n",
            "938/938 [==============================] - 7s 8ms/step - loss: 0.0909 - accuracy: 0.9730\n",
            "Epoch 3/3\n",
            "938/938 [==============================] - 6s 7ms/step - loss: 0.0605 - accuracy: 0.9818\n",
            "Elapsed time: 428.1941087245941\n",
            "0.9713333333333333\n",
            "{'batch_size': 64, 'epochs': 3}\n"
          ]
        }
      ]
    }
  ]
}